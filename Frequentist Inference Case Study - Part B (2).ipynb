{
 "cells": [
  {
   "cell_type": "markdown",
   "metadata": {},
   "source": [
    "# Frequentist Inference Case Study - Part B"
   ]
  },
  {
   "cell_type": "markdown",
   "metadata": {},
   "source": [
    "## Learning objectives"
   ]
  },
  {
   "cell_type": "markdown",
   "metadata": {},
   "source": [
    "Welcome to Part B of the Frequentist inference case study! The purpose of this case study is to help you apply the concepts associated with Frequentist inference in Python. In particular, you'll practice writing Python code to apply the following statistical concepts: \n",
    "* the _z_-statistic\n",
    "* the _t_-statistic\n",
    "* the difference and relationship between the two\n",
    "* the Central Limit Theorem, including its assumptions and consequences\n",
    "* how to estimate the population mean and standard deviation from a sample\n",
    "* the concept of a sampling distribution of a test statistic, particularly for the mean\n",
    "* how to combine these concepts to calculate a confidence interval"
   ]
  },
  {
   "cell_type": "markdown",
   "metadata": {},
   "source": [
    "In the previous notebook, we used only data from a known normal distribution. **You'll now tackle real data, rather than simulated data, and answer some relevant real-world business problems using the data.**"
   ]
  },
  {
   "cell_type": "markdown",
   "metadata": {},
   "source": [
    "## Hospital medical charges"
   ]
  },
  {
   "cell_type": "markdown",
   "metadata": {},
   "source": [
    "Imagine that a hospital has hired you as their data scientist. An administrator is working on the hospital's business operations plan and needs you to help them answer some business questions. \n",
    "\n",
    "In this assignment notebook, you're going to use frequentist statistical inference on a data sample to answer the questions:\n",
    "* has the hospital's revenue stream fallen below a key threshold?\n",
    "* are patients with insurance really charged different amounts than those without?\n",
    "\n",
    "Answering that last question with a frequentist approach makes some assumptions, and requires some knowledge, about the two groups."
   ]
  },
  {
   "cell_type": "markdown",
   "metadata": {},
   "source": [
    "We are going to use some data on medical charges obtained from [Kaggle](https://www.kaggle.com/easonlai/sample-insurance-claim-prediction-dataset). \n",
    "\n",
    "For the purposes of this exercise, assume the observations are the result of random sampling from our single hospital. Recall that in the previous assignment, we introduced the Central Limit Theorem (CLT), and its consequence that the distributions of sample statistics approach a normal distribution as $n$ increases. The amazing thing about this is that it applies to the sampling distributions of statistics that have been calculated from even highly non-normal distributions of data! Recall, also, that hypothesis testing is very much based on making inferences about such sample statistics. You're going to rely heavily on the CLT to apply frequentist (parametric) tests to answer the questions in this notebook."
   ]
  },
  {
   "cell_type": "code",
   "execution_count": 1,
   "metadata": {},
   "outputs": [],
   "source": [
    "from scipy.stats import norm\n",
    "from scipy.stats import expon\n",
    "from scipy.stats import t\n",
    "import numpy as np\n",
    "import pandas as pd\n",
    "from numpy.random import seed\n",
    "import matplotlib.pyplot as plt\n",
    "medical = pd.read_csv(r\"C:\\Users\\mohua\\OneDrive\\Documents\\unit11\\insurance2.csv\", index_col=None)"
   ]
  },
  {
   "cell_type": "code",
   "execution_count": 2,
   "metadata": {},
   "outputs": [
    {
     "data": {
      "text/plain": [
       "(1338, 8)"
      ]
     },
     "execution_count": 2,
     "metadata": {},
     "output_type": "execute_result"
    }
   ],
   "source": [
    "medical.shape"
   ]
  },
  {
   "cell_type": "code",
   "execution_count": 3,
   "metadata": {},
   "outputs": [
    {
     "data": {
      "text/html": [
       "<div>\n",
       "<style scoped>\n",
       "    .dataframe tbody tr th:only-of-type {\n",
       "        vertical-align: middle;\n",
       "    }\n",
       "\n",
       "    .dataframe tbody tr th {\n",
       "        vertical-align: top;\n",
       "    }\n",
       "\n",
       "    .dataframe thead th {\n",
       "        text-align: right;\n",
       "    }\n",
       "</style>\n",
       "<table border=\"1\" class=\"dataframe\">\n",
       "  <thead>\n",
       "    <tr style=\"text-align: right;\">\n",
       "      <th></th>\n",
       "      <th>age</th>\n",
       "      <th>sex</th>\n",
       "      <th>bmi</th>\n",
       "      <th>children</th>\n",
       "      <th>smoker</th>\n",
       "      <th>region</th>\n",
       "      <th>charges</th>\n",
       "      <th>insuranceclaim</th>\n",
       "    </tr>\n",
       "  </thead>\n",
       "  <tbody>\n",
       "    <tr>\n",
       "      <th>0</th>\n",
       "      <td>19</td>\n",
       "      <td>0</td>\n",
       "      <td>27.900</td>\n",
       "      <td>0</td>\n",
       "      <td>1</td>\n",
       "      <td>3</td>\n",
       "      <td>16884.92400</td>\n",
       "      <td>1</td>\n",
       "    </tr>\n",
       "    <tr>\n",
       "      <th>1</th>\n",
       "      <td>18</td>\n",
       "      <td>1</td>\n",
       "      <td>33.770</td>\n",
       "      <td>1</td>\n",
       "      <td>0</td>\n",
       "      <td>2</td>\n",
       "      <td>1725.55230</td>\n",
       "      <td>1</td>\n",
       "    </tr>\n",
       "    <tr>\n",
       "      <th>2</th>\n",
       "      <td>28</td>\n",
       "      <td>1</td>\n",
       "      <td>33.000</td>\n",
       "      <td>3</td>\n",
       "      <td>0</td>\n",
       "      <td>2</td>\n",
       "      <td>4449.46200</td>\n",
       "      <td>0</td>\n",
       "    </tr>\n",
       "    <tr>\n",
       "      <th>3</th>\n",
       "      <td>33</td>\n",
       "      <td>1</td>\n",
       "      <td>22.705</td>\n",
       "      <td>0</td>\n",
       "      <td>0</td>\n",
       "      <td>1</td>\n",
       "      <td>21984.47061</td>\n",
       "      <td>0</td>\n",
       "    </tr>\n",
       "    <tr>\n",
       "      <th>4</th>\n",
       "      <td>32</td>\n",
       "      <td>1</td>\n",
       "      <td>28.880</td>\n",
       "      <td>0</td>\n",
       "      <td>0</td>\n",
       "      <td>1</td>\n",
       "      <td>3866.85520</td>\n",
       "      <td>1</td>\n",
       "    </tr>\n",
       "  </tbody>\n",
       "</table>\n",
       "</div>"
      ],
      "text/plain": [
       "   age  sex     bmi  children  smoker  region      charges  insuranceclaim\n",
       "0   19    0  27.900         0       1       3  16884.92400               1\n",
       "1   18    1  33.770         1       0       2   1725.55230               1\n",
       "2   28    1  33.000         3       0       2   4449.46200               0\n",
       "3   33    1  22.705         0       0       1  21984.47061               0\n",
       "4   32    1  28.880         0       0       1   3866.85520               1"
      ]
     },
     "execution_count": 3,
     "metadata": {},
     "output_type": "execute_result"
    }
   ],
   "source": [
    "medical.head()"
   ]
  },
  {
   "cell_type": "markdown",
   "metadata": {},
   "source": [
    "__Q1:__ Plot the histogram of charges and calculate the mean and standard deviation. Comment on the appropriateness of these statistics for the data."
   ]
  },
  {
   "cell_type": "markdown",
   "metadata": {},
   "source": [
    "Q1A: Results showed that the majority will be less than 12000 region"
   ]
  },
  {
   "cell_type": "code",
   "execution_count": 4,
   "metadata": {},
   "outputs": [
    {
     "data": {
      "text/plain": [
       "(array([136., 106., 106.,  90.,  98.,  90.,  82.,  73.,  88.,  65.,  45.,\n",
       "         17.,  19.,  20.,  28.,  20.,  22.,  13.,  19.,  12.,  11.,   9.,\n",
       "          7.,   6.,   2.,   6.,  15.,  12.,  12.,  14.,  15.,  13.,  10.,\n",
       "          7.,  12.,   8.,  11.,   8.,   4.,   1.,   0.,   1.,   0.,   1.,\n",
       "          0.,   1.,   0.,   1.,   0.,   2.]),\n",
       " array([ 1121.8739   ,  2374.8449822,  3627.8160644,  4880.7871466,\n",
       "         6133.7582288,  7386.729311 ,  8639.7003932,  9892.6714754,\n",
       "        11145.6425576, 12398.6136398, 13651.584722 , 14904.5558042,\n",
       "        16157.5268864, 17410.4979686, 18663.4690508, 19916.440133 ,\n",
       "        21169.4112152, 22422.3822974, 23675.3533796, 24928.3244618,\n",
       "        26181.295544 , 27434.2666262, 28687.2377084, 29940.2087906,\n",
       "        31193.1798728, 32446.150955 , 33699.1220372, 34952.0931194,\n",
       "        36205.0642016, 37458.0352838, 38711.006366 , 39963.9774482,\n",
       "        41216.9485304, 42469.9196126, 43722.8906948, 44975.861777 ,\n",
       "        46228.8328592, 47481.8039414, 48734.7750236, 49987.7461058,\n",
       "        51240.717188 , 52493.6882702, 53746.6593524, 54999.6304346,\n",
       "        56252.6015168, 57505.572599 , 58758.5436812, 60011.5147634,\n",
       "        61264.4858456, 62517.4569278, 63770.42801  ]),\n",
       " <a list of 50 Patch objects>)"
      ]
     },
     "execution_count": 4,
     "metadata": {},
     "output_type": "execute_result"
    },
    {
     "data": {
      "image/png": "[encoded data removed]",
      "text/plain": [
       "<Figure size 432x288 with 1 Axes>"
      ]
     },
     "metadata": {
      "needs_background": "light"
     },
     "output_type": "display_data"
    }
   ],
   "source": [
    "plt.hist(medical.charges, bins=50)"
   ]
  },
  {
   "cell_type": "code",
   "execution_count": 5,
   "metadata": {},
   "outputs": [
    {
     "name": "stdout",
     "output_type": "stream",
     "text": [
      "The average charge is  13270.422265141257\n",
      "The standard deviation is  12110.011236693994\n"
     ]
    }
   ],
   "source": [
    "charges_mean=medical.charges.mean()\n",
    "charges_std=medical.charges.std()\n",
    "print('The average charge is ',charges_mean)\n",
    "print('The standard deviation is ',charges_std)"
   ]
  },
  {
   "cell_type": "markdown",
   "metadata": {},
   "source": [
    "__Q2:__ The administrator is concerned that the actual average charge has fallen below 12,000, threatening the hospital's operational model. On the assumption that these data represent a random sample of charges, how would you justify that these data allow you to answer that question? And what would be the most appropriate frequentist test, of the ones discussed so far, to apply?"
   ]
  },
  {
   "cell_type": "markdown",
   "metadata": {},
   "source": [
    "Q2A:The data seems like to an exponential distribution curve. The actual data may seems like a normal distribution curve. The standard deviation is very high. The data were spread out. Therefore need to setup a model and get more data to see. To test the hypotheseis, the exponential distribution model and norm model were both used. The python program is shown below"
   ]
  },
  {
   "cell_type": "code",
   "execution_count": 6,
   "metadata": {},
   "outputs": [
    {
     "name": "stdout",
     "output_type": "stream",
     "text": [
      "The average charge by expontential model is  25911.626846324838\n",
      "The standard deviation by expontential model is  12231.505183410993\n",
      "The average charge by norm model is  13476.176674505354\n",
      "The standard deviation by norm model is  12023.236220483128\n"
     ]
    }
   ],
   "source": [
    "# random select data with exponential distribution and norm distribution.\n",
    "seed(47)\n",
    "charge_expon =expon.rvs(13270,12110,size=1338)\n",
    "charge_expon_mean=charge_expon.mean()\n",
    "charge_expon_std=charge_expon.std()\n",
    "print('The average charge by expontential model is ',charge_expon_mean)\n",
    "print('The standard deviation by expontential model is ',charge_expon_std)\n",
    "\n",
    "charge_norm=norm.rvs(13270, 12110, size=1338)\n",
    "charge_norm_mean=charge_norm.mean()\n",
    "charge_norm_std=charge_norm.std()\n",
    "print('The average charge by norm model is ',charge_norm_mean)\n",
    "print('The standard deviation by norm model is ',charge_norm_std)\n",
    "\n",
    "# Results indicated that norm model will provide a better fit in both mean and standard deviation"
   ]
  },
  {
   "cell_type": "code",
   "execution_count": 7,
   "metadata": {},
   "outputs": [
    {
     "data": {
      "image/png": "[encoded data removed]",
      "text/plain": [
       "<Figure size 432x288 with 1 Axes>"
      ]
     },
     "metadata": {
      "needs_background": "light"
     },
     "output_type": "display_data"
    }
   ],
   "source": [
    "#Check by CDF model. here will be three CDF curve. A better model will fit the raw data better\n",
    "\n",
    "# define ECDF (CDF function)\n",
    "def ecdf(data):\n",
    "    \"\"\"Compute ECDF for a one-dimensional array of measurements.\"\"\"\n",
    "    # Number of data points: n\n",
    "    n = len(data)\n",
    "\n",
    "    # x-data for the ECDF: x\n",
    "    x = np.sort(data)\n",
    "\n",
    "    # y-data for the ECDF: y\n",
    "    y = np.arange(1, n+1) / n\n",
    "\n",
    "    return x, y\n",
    "\n",
    "#computer CDF, x_original,y_original are from raw data from the charge. \n",
    "#x_expon,y_exon are from simulated data from exponential distribution\n",
    "#x-norm,y_norm are from simulated data from normal distribution\n",
    "x_original,y_original=ecdf(medical.charges)\n",
    "x_expon,y_expon=ecdf(charge_expon)\n",
    "x_norm,y_norm=ecdf(charge_norm)\n",
    "\n",
    "plt.plot(x_original , y_original, marker='.',linestyle='none',color='red')\n",
    "plt.plot(x_expon , y_expon, marker='.',linestyle='none',color='blue')\n",
    "plt.plot(x_norm , y_norm, marker='.',linestyle='none',color='green')\n",
    "\n",
    "_ = plt.xlabel('charge ($)')\n",
    "_ = plt.ylabel('CDF')\n",
    "_ = plt.title('Distribution of charge in entire town population')\n",
    "\n",
    "#Results showed that normal distribution fit the raw data better. So need to use normal distribution to simulate the results\n"
   ]
  },
  {
   "cell_type": "markdown",
   "metadata": {},
   "source": [
    "__Q3:__ Given the nature of the administrator's concern, what is the appropriate confidence interval in this case? A ***one-sided*** or ***two-sided*** interval? (Refresh your understanding of this concept on p. 399 of the *AoS*). Calculate the critical value and the relevant 95% confidence interval for the mean, and comment on whether the administrator should be concerned."
   ]
  },
  {
   "cell_type": "markdown",
   "metadata": {},
   "source": [
    "Q3A:Although the raw data showed that chances below $12000 is around 63%. After using a better model, the chances to get below $12000 was 0.5%"
   ]
  },
  {
   "cell_type": "code",
   "execution_count": 8,
   "metadata": {},
   "outputs": [
    {
     "name": "stdout",
     "output_type": "stream",
     "text": [
      "Based on the original random data, 95% confidence_interval= [ 1136.608873 46007.13095 ]\n"
     ]
    }
   ],
   "source": [
    "#The confidence interval will be calculated based on the raw data\n",
    "confidence_interval=np.percentile(medical.charges,[0.25,97.5])\n",
    "print('Based on the original random data, 95% confidence_interval=', confidence_interval)"
   ]
  },
  {
   "cell_type": "code",
   "execution_count": 9,
   "metadata": {},
   "outputs": [
    {
     "name": "stdout",
     "output_type": "stream",
     "text": [
      "Based on the simulated random data, 95% confidence_interval= [11868.96874286 14254.40934945]\n",
      "Based on the simulated random data, The mean is 13271.696705767266\n"
     ]
    }
   ],
   "source": [
    "#The confidence interval calculated based on the simulation by normal distribution (10000)\n",
    "seed(47)\n",
    "charge_norm=norm.rvs(13270, 500, size=100000)\n",
    "confidence_interval_simulated=np.percentile(charge_norm,[0.25,97.5])\n",
    "charge_norm_mean=charge_norm.mean()\n",
    "print('Based on the simulated random data, 95% confidence_interval=', confidence_interval_simulated)\n",
    "print('Based on the simulated random data, The mean is', charge_norm_mean)"
   ]
  },
  {
   "cell_type": "code",
   "execution_count": 10,
   "metadata": {},
   "outputs": [
    {
     "name": "stdout",
     "output_type": "stream",
     "text": [
      "Based on the simulation model, possibilty to get less than $12000 charge is 0.528 %\n"
     ]
    }
   ],
   "source": [
    "#possibility to get lower than 12000 by simulation\n",
    "threshold=12000\n",
    "size=len(charge_norm)\n",
    "p_simulated=np.sum(charge_norm<=threshold)/len(charge_norm)*100\n",
    "print('Based on the simulation model, possibilty to get less than $12000 charge is',p_simulated,'%')"
   ]
  },
  {
   "cell_type": "code",
   "execution_count": 11,
   "metadata": {},
   "outputs": [
    {
     "name": "stdout",
     "output_type": "stream",
     "text": [
      "Based on the distibution of raw data, possibilty to get less than $12000 charge is 63.22869955156951 %\n"
     ]
    }
   ],
   "source": [
    "#possiblility to get lower than 12000 by raw data\n",
    "p_original=np.sum(medical.charges<=threshold)/len(medical.charges)*100\n",
    "print('Based on the distibution of raw data, possibilty to get less than $12000 charge is',p_original,'%')"
   ]
  },
  {
   "cell_type": "markdown",
   "metadata": {},
   "source": [
    "The administrator then wants to know whether people with insurance really are charged a different amount to those without.\n",
    "\n",
    "__Q4:__ State the null and alternative hypothesis here. Use the _t_-test for the difference between means, where the pooled standard deviation of the two groups is given by:\n",
    "\\begin{equation}\n",
    "s_p = \\sqrt{\\frac{(n_0 - 1)s^2_0 + (n_1 - 1)s^2_1}{n_0 + n_1 - 2}}\n",
    "\\end{equation}\n",
    "\n",
    "and the *t*-test statistic is then given by:\n",
    "\n",
    "\\begin{equation}\n",
    "t = \\frac{\\bar{x}_0 - \\bar{x}_1}{s_p \\sqrt{1/n_0 + 1/n_1}}.\n",
    "\\end{equation}\n",
    "\n",
    "(If you need some reminding of the general definition of ***t-statistic***, check out the definition on p. 404 of *AoS*). \n",
    "\n",
    "What assumption about the variances of the two groups are we making here?"
   ]
  },
  {
   "cell_type": "markdown",
   "metadata": {},
   "source": [
    "Q4A:The whole selected samples disttribution are the same as the whole distribution"
   ]
  },
  {
   "cell_type": "markdown",
   "metadata": {},
   "source": [
    "__Q5:__ Perform this hypothesis test both manually, using the above formulae, and then using the appropriate function from [scipy.stats](https://docs.scipy.org/doc/scipy/reference/stats.html#statistical-tests) (hint, you're looking for a function to perform a _t_-test on two independent samples). For the manual approach, calculate the value of the test statistic and then its probability (the p-value). Verify you get the same results from both."
   ]
  },
  {
   "cell_type": "markdown",
   "metadata": {},
   "source": [
    "Q5A:Yes. They are charging the different rate "
   ]
  },
  {
   "cell_type": "code",
   "execution_count": 12,
   "metadata": {},
   "outputs": [
    {
     "name": "stdout",
     "output_type": "stream",
     "text": [
      "<class 'pandas.core.frame.DataFrame'>\n",
      "RangeIndex: 1338 entries, 0 to 1337\n",
      "Data columns (total 8 columns):\n",
      " #   Column          Non-Null Count  Dtype  \n",
      "---  ------          --------------  -----  \n",
      " 0   age             1338 non-null   int64  \n",
      " 1   sex             1338 non-null   int64  \n",
      " 2   bmi             1338 non-null   float64\n",
      " 3   children        1338 non-null   int64  \n",
      " 4   smoker          1338 non-null   int64  \n",
      " 5   region          1338 non-null   int64  \n",
      " 6   charges         1338 non-null   float64\n",
      " 7   insuranceclaim  1338 non-null   int64  \n",
      "dtypes: float64(2), int64(6)\n",
      "memory usage: 83.8 KB\n"
     ]
    }
   ],
   "source": [
    "#check the type of the medical\n",
    "medical.info()"
   ]
  },
  {
   "cell_type": "code",
   "execution_count": 13,
   "metadata": {},
   "outputs": [
    {
     "data": {
      "text/html": [
       "<div>\n",
       "<style scoped>\n",
       "    .dataframe tbody tr th:only-of-type {\n",
       "        vertical-align: middle;\n",
       "    }\n",
       "\n",
       "    .dataframe tbody tr th {\n",
       "        vertical-align: top;\n",
       "    }\n",
       "\n",
       "    .dataframe thead th {\n",
       "        text-align: right;\n",
       "    }\n",
       "</style>\n",
       "<table border=\"1\" class=\"dataframe\">\n",
       "  <thead>\n",
       "    <tr style=\"text-align: right;\">\n",
       "      <th></th>\n",
       "      <th>age</th>\n",
       "      <th>sex</th>\n",
       "      <th>bmi</th>\n",
       "      <th>children</th>\n",
       "      <th>smoker</th>\n",
       "      <th>region</th>\n",
       "      <th>charges</th>\n",
       "      <th>insuranceclaim</th>\n",
       "    </tr>\n",
       "  </thead>\n",
       "  <tbody>\n",
       "    <tr>\n",
       "      <th>2</th>\n",
       "      <td>28</td>\n",
       "      <td>1</td>\n",
       "      <td>33.000</td>\n",
       "      <td>3</td>\n",
       "      <td>0</td>\n",
       "      <td>2</td>\n",
       "      <td>4449.46200</td>\n",
       "      <td>0</td>\n",
       "    </tr>\n",
       "    <tr>\n",
       "      <th>3</th>\n",
       "      <td>33</td>\n",
       "      <td>1</td>\n",
       "      <td>22.705</td>\n",
       "      <td>0</td>\n",
       "      <td>0</td>\n",
       "      <td>1</td>\n",
       "      <td>21984.47061</td>\n",
       "      <td>0</td>\n",
       "    </tr>\n",
       "    <tr>\n",
       "      <th>5</th>\n",
       "      <td>31</td>\n",
       "      <td>0</td>\n",
       "      <td>25.740</td>\n",
       "      <td>0</td>\n",
       "      <td>0</td>\n",
       "      <td>2</td>\n",
       "      <td>3756.62160</td>\n",
       "      <td>0</td>\n",
       "    </tr>\n",
       "    <tr>\n",
       "      <th>7</th>\n",
       "      <td>37</td>\n",
       "      <td>0</td>\n",
       "      <td>27.740</td>\n",
       "      <td>3</td>\n",
       "      <td>0</td>\n",
       "      <td>1</td>\n",
       "      <td>7281.50560</td>\n",
       "      <td>0</td>\n",
       "    </tr>\n",
       "    <tr>\n",
       "      <th>8</th>\n",
       "      <td>37</td>\n",
       "      <td>1</td>\n",
       "      <td>29.830</td>\n",
       "      <td>2</td>\n",
       "      <td>0</td>\n",
       "      <td>0</td>\n",
       "      <td>6406.41070</td>\n",
       "      <td>0</td>\n",
       "    </tr>\n",
       "  </tbody>\n",
       "</table>\n",
       "</div>"
      ],
      "text/plain": [
       "   age  sex     bmi  children  smoker  region      charges  insuranceclaim\n",
       "2   28    1  33.000         3       0       2   4449.46200               0\n",
       "3   33    1  22.705         0       0       1  21984.47061               0\n",
       "5   31    0  25.740         0       0       2   3756.62160               0\n",
       "7   37    0  27.740         3       0       1   7281.50560               0\n",
       "8   37    1  29.830         2       0       0   6406.41070               0"
      ]
     },
     "execution_count": 13,
     "metadata": {},
     "output_type": "execute_result"
    }
   ],
   "source": [
    "# separate data based on whether there is insurance or not\n",
    "medical_original=medical\n",
    "medical_original.head()\n",
    "size=len(medical_original.insuranceclaim)\n",
    "#charge_insurance=np.empty(size)\n",
    "#charge_no_insurance=np.empty(size)\n",
    "insurance= medical[medical['insuranceclaim'] == 1]\n",
    "insurance.head()\n",
    "insurance_data_count=insurance.count()\n",
    "no_insurance=medical[medical['insuranceclaim']==0]\n",
    "no_insurance_data_count=no_insurance.count()\n",
    "no_insurance.head() "
   ]
  },
  {
   "cell_type": "code",
   "execution_count": 14,
   "metadata": {},
   "outputs": [
    {
     "name": "stdout",
     "output_type": "stream",
     "text": [
      "The average charge with insurance is  16423.928276537663\n",
      "The average standard deviation of charge with insurance =  14045.928418802127\n",
      "The average charge without insurance is  8821.421892306294\n",
      "The average standard deviation of charge without insurance =  6446.510126811736\n"
     ]
    }
   ],
   "source": [
    "#calculate the test statistical\n",
    "insurance_mean=insurance['charges'].mean()\n",
    "insurance_std=insurance['charges'].std()\n",
    "no_insurance_mean=no_insurance['charges'].mean()\n",
    "no_insurance_std=no_insurance['charges'].std()\n",
    "print('The average charge with insurance is ',insurance_mean,)\n",
    "print('The average standard deviation of charge with insurance = ',insurance_std)\n",
    "print('The average charge without insurance is ',no_insurance_mean,)\n",
    "print('The average standard deviation of charge without insurance = ',no_insurance_std)"
   ]
  },
  {
   "cell_type": "code",
   "execution_count": 15,
   "metadata": {},
   "outputs": [
    {
     "name": "stdout",
     "output_type": "stream",
     "text": [
      "11520.034268775256\n",
      "11.89329903087671\n"
     ]
    }
   ],
   "source": [
    "#Sp\n",
    "n0=insurance_data_count['charges']\n",
    "n1=no_insurance_data_count['charges']\n",
    "s0=insurance_std\n",
    "s1=no_insurance_std\n",
    "sp=np.sqrt(((n0-1)*s0**2+(n1-1)*s1**2)/(n0+n1-2))\n",
    "print(sp)\n",
    "x0=insurance_mean\n",
    "x1=no_insurance_mean\n",
    "t=(x0-x1)/(sp*np.sqrt(1/n0+1/n1))\n",
    "print(t)"
   ]
  },
  {
   "cell_type": "code",
   "execution_count": 16,
   "metadata": {},
   "outputs": [
    {
     "name": "stdout",
     "output_type": "stream",
     "text": [
      "11.893299030876712\n",
      "4.461230231620717e-31\n"
     ]
    }
   ],
   "source": [
    "#Compute the t-test for the means of two independent samples of scores\n",
    "from scipy.stats import ttest_ind\n",
    "x = insurance['charges']\n",
    "y = no_insurance['charges']\n",
    "\n",
    "t_statistic, p_value = ttest_ind(x, y)\n",
    "print (t_statistic)\n",
    "print(p_value)"
   ]
  },
  {
   "cell_type": "code",
   "execution_count": 17,
   "metadata": {},
   "outputs": [
    {
     "data": {
      "text/plain": [
       "(array([66., 91., 98., 72., 56., 45., 40., 16., 10., 13., 11.,  9.,  4.,\n",
       "         8.,  6.,  3.,  2.,  2.,  0.,  3.]),\n",
       " array([ 1121.8739   ,  2911.3106065,  4700.747313 ,  6490.1840195,\n",
       "         8279.620726 , 10069.0574325, 11858.494139 , 13647.9308455,\n",
       "        15437.367552 , 17226.8042585, 19016.240965 , 20805.6776715,\n",
       "        22595.114378 , 24384.5510845, 26173.987791 , 27963.4244975,\n",
       "        29752.861204 , 31542.2979105, 33331.734617 , 35121.1713235,\n",
       "        36910.60803  ]),\n",
       " <a list of 20 Patch objects>)"
      ]
     },
     "execution_count": 17,
     "metadata": {},
     "output_type": "execute_result"
    },
    {
     "data": {
      "image/png": "[encoded data removed]",
      "text/plain": [
       "<Figure size 432x288 with 1 Axes>"
      ]
     },
     "metadata": {
      "needs_background": "light"
     },
     "output_type": "display_data"
    }
   ],
   "source": [
    "#plot insurance and uninsurance sample distribution\n",
    "plt.hist(insurance.charges, bins=20)\n",
    "plt.hist(no_insurance.charges, bins=20)"
   ]
  },
  {
   "cell_type": "markdown",
   "metadata": {},
   "source": [
    "Congratulations! Hopefully you got the exact same numerical results. This shows that you correctly calculated the numbers by hand. Secondly, you used the correct function and saw that it's much easier to use. All you need to do is pass your data to it."
   ]
  },
  {
   "cell_type": "markdown",
   "metadata": {},
   "source": [
    "__Q6:__ Conceptual question: look through the documentation for statistical test functions in scipy.stats. You'll see the above _t_-test for a sample, but can you see an equivalent one for performing a *z*-test from a sample? Comment on your answer."
   ]
  },
  {
   "cell_type": "markdown",
   "metadata": {},
   "source": [
    "Q6A:Z-test need to have a better norm distribution. It is possible to have Z test after separating insurance factor."
   ]
  },
  {
   "cell_type": "markdown",
   "metadata": {},
   "source": [
    "## Learning outcomes"
   ]
  },
  {
   "cell_type": "markdown",
   "metadata": {},
   "source": [
    "Having completed this project notebook, you now have good hands-on experience:\n",
    "* using the central limit theorem to help you apply frequentist techniques to answer questions that pertain to very non-normally distributed data from the real world\n",
    "* performing inference using such data to answer business questions\n",
    "* forming a hypothesis and framing the null and alternative hypotheses\n",
    "* testing this using a _t_-test"
   ]
  }
 ],
 "metadata": {
  "kernelspec": {
   "display_name": "Python 3",
   "language": "python",
   "name": "python3"
  },
  "language_info": {
   "codemirror_mode": {
    "name": "ipython",
    "version": 3
   },
   "file_extension": ".py",
   "mimetype": "text/x-python",
   "name": "python",
   "nbconvert_exporter": "python",
   "pygments_lexer": "ipython3",
   "version": "3.7.7"
  }
 },
 "nbformat": 4,
 "nbformat_minor": 2
}
